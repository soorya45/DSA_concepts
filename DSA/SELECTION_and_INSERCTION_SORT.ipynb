{
  "nbformat": 4,
  "nbformat_minor": 0,
  "metadata": {
    "colab": {
      "provenance": []
    },
    "kernelspec": {
      "name": "python3",
      "display_name": "Python 3"
    },
    "language_info": {
      "name": "python"
    }
  },
  "cells": [
    {
      "cell_type": "code",
      "execution_count": null,
      "metadata": {
        "id": "Dk_jnFvYp1yA",
        "colab": {
          "base_uri": "https://localhost:8080/"
        },
        "outputId": "60d9eab3-d1f7-470d-8299-644c1feab050"
      },
      "outputs": [
        {
          "output_type": "stream",
          "name": "stdout",
          "text": [
            "Enter the unsorted array :9,8,7,67,76,4\n",
            "[4, 7, 8, 9, 67, 76]\n"
          ]
        }
      ],
      "source": [
        "#SELECTION\n",
        "\n",
        "def sel(n):\n",
        "    for i in range(len(n)):\n",
        "        min=i\n",
        "        for j in range(i+1,len(n)):\n",
        "            if n[min]>n[j]:\n",
        "                min=j\n",
        "        n[i],n[min]=n[min],n[i]\n",
        "    print(n)\n",
        "\n",
        "n =input(\"Enter the unsorted array :\")\n",
        "n=list(map(int,n.split(\",\")))\n",
        "sel(n)\n"
      ]
    },
    {
      "cell_type": "code",
      "source": [],
      "metadata": {
        "id": "d9m1MP_-r1Vj"
      },
      "execution_count": null,
      "outputs": []
    },
    {
      "cell_type": "code",
      "source": [
        "#INSERCTION\n",
        "def ins(n):\n",
        "    for i in range(1,len(n)):\n",
        "        key=n[i]\n",
        "        j=i-1\n",
        "        while j>=0 and key < n[j]:\n",
        "            n[j+1]=n[j]\n",
        "            j-=1\n",
        "        n[j+1]=key\n",
        "\n",
        "    print(n)\n",
        "\n",
        "n =input(\"Enter the unsorted array :\")\n",
        "n=list(map(int,n.split(\",\")))\n",
        "ins(n)"
      ],
      "metadata": {
        "colab": {
          "base_uri": "https://localhost:8080/"
        },
        "id": "867UkvoIwBS9",
        "outputId": "328bf0b9-c2d2-4234-b262-59847f57762c"
      },
      "execution_count": null,
      "outputs": [
        {
          "output_type": "stream",
          "name": "stdout",
          "text": [
            "Enter the unsorted array :4,3,2\n",
            "[2, 3, 4]\n"
          ]
        }
      ]
    }
  ]
}