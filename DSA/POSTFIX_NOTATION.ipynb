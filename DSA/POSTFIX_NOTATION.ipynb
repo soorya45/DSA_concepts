{
  "nbformat": 4,
  "nbformat_minor": 0,
  "metadata": {
    "colab": {
      "provenance": []
    },
    "kernelspec": {
      "name": "python3",
      "display_name": "Python 3"
    },
    "language_info": {
      "name": "python"
    }
  },
  "cells": [
    {
      "cell_type": "code",
      "execution_count": null,
      "metadata": {
        "id": "_X-7XGEFnNvr",
        "colab": {
          "base_uri": "https://localhost:8080/"
        },
        "outputId": "cf8f0aee-8401-42ff-b830-49ec6c1658f3"
      },
      "outputs": [
        {
          "output_type": "stream",
          "name": "stdout",
          "text": [
            "enter the postfix notation1\n",
            "enter the postfix notation3\n",
            "enter the postfix notation+\n",
            "enter the postfix notation\n",
            "the value is =  4\n"
          ]
        }
      ],
      "source": [
        "\n",
        "class cse:\n",
        "  def __init__(self):\n",
        "    self.stack=[]\n",
        "    self.maxsize=20\n",
        "    self.top=-1\n",
        "  def push(self,data):\n",
        "    if self.top==self.maxsize-1:\n",
        "      print(\"full\")\n",
        "    else:\n",
        "      self.top+=1\n",
        "      self.stack.append(data)\n",
        "  def pop(self):\n",
        "    if self.top == -1:\n",
        "      print(\"stack is empty\")\n",
        "    else:\n",
        "      self.top-=1\n",
        "      poped_item= self.stack.pop()\n",
        "      return poped_item\n",
        "\n",
        "one=cse()\n",
        "data= []\n",
        "\n",
        "while True:\n",
        "  a = input('enter the postfix notation:')\n",
        "  if a == '':\n",
        "    break\n",
        "  data.append(a)\n",
        "\n",
        "for i in range(len(data)):\n",
        "  if data[i].isdigit()==True:\n",
        "    one.push(int(data[i]))\n",
        "\n",
        "  elif data[i]=='+':\n",
        "    a=one.pop()\n",
        "    b=one.pop()\n",
        "    result= b + a\n",
        "    one.push(result)\n",
        "\n",
        "  elif data[i]=='-':\n",
        "    a=one.pop()\n",
        "    b=one.pop()\n",
        "    result= b - a\n",
        "    one.push(result)\n",
        "\n",
        "  elif data[i]=='*':\n",
        "    a=one.pop()\n",
        "    b=one.pop()\n",
        "    result= b*a\n",
        "    one.push(result)\n",
        "\n",
        "  elif data[i]=='/':\n",
        "    a=one.pop()\n",
        "    b=one.pop()\n",
        "    result= b/a\n",
        "    one.push(result)\n",
        "\n",
        "  elif data[i]=='%':\n",
        "    a=one.pop()\n",
        "    b=one.pop()\n",
        "    result=b%a\n",
        "    one.push(result)\n",
        "\n",
        "print(\"the value is = \",one.stack[0])"
      ]
    },
    {
      "cell_type": "code",
      "source": [],
      "metadata": {
        "id": "Uo73Xn1coCL7"
      },
      "execution_count": null,
      "outputs": []
    }
  ]
}