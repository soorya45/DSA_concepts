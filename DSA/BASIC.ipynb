{
  "nbformat": 4,
  "nbformat_minor": 0,
  "metadata": {
    "colab": {
      "provenance": []
    },
    "kernelspec": {
      "name": "python3",
      "display_name": "Python 3"
    },
    "language_info": {
      "name": "python"
    }
  },
  "cells": [
    {
      "cell_type": "markdown",
      "source": [
        "EXNO:1"
      ],
      "metadata": {
        "id": "COguF19RMFmZ"
      }
    },
    {
      "cell_type": "code",
      "source": [
        "class Node:\n",
        "    def __init__(self, key):\n",
        "        self.left = None\n",
        "        self.right = None\n",
        "        self.val = key\n",
        "\n",
        "def inorderTraversal(root):\n",
        "    if root:\n",
        "        inorderTraversal(root.left)\n",
        "        print(root.val, end=\" \")\n",
        "        inorderTraversal(root.right)\n",
        "\n",
        "root = Node('A')\n",
        "root.left = Node('C')\n",
        "root.left.left = Node('D')\n",
        "root.left.right = Node('B')\n",
        "root.left.right.right = Node('F')\n",
        "root.right = Node('E')\n",
        "\n",
        "inorderTraversal(root)\n"
      ],
      "metadata": {
        "colab": {
          "base_uri": "https://localhost:8080/"
        },
        "id": "2gScpZK3zx_E",
        "outputId": "ac0afb57-df87-4221-df46-c7bf896814f4"
      },
      "execution_count": null,
      "outputs": [
        {
          "output_type": "stream",
          "name": "stdout",
          "text": [
            "D C B F A E "
          ]
        }
      ]
    },
    {
      "cell_type": "code",
      "source": [
        "class Node:\n",
        "    def __init__(self, key):\n",
        "        self.left = None\n",
        "        self.right = None\n",
        "        self.val = key\n",
        "\n",
        "def preorderTraversal(root):\n",
        "    if root:\n",
        "        print(root.val, end=\" \")\n",
        "        preorderTraversal(root.left)\n",
        "        preorderTraversal(root.right)\n",
        "\n",
        "# Creating a binary tree\n",
        "root = Node('A')\n",
        "root.left = Node('C')\n",
        "root.left.left = Node('D')\n",
        "root.left.right = Node('B')\n",
        "root.right = Node('E')\n",
        "root.right.right = Node('F')\n",
        "\n",
        "# Performing preorder traversal\n",
        "preorderTraversal(root)\n"
      ],
      "metadata": {
        "colab": {
          "base_uri": "https://localhost:8080/"
        },
        "id": "xhcazzTK0jxr",
        "outputId": "d1a15fc6-aff8-405d-c9a1-d4ed9488b593"
      },
      "execution_count": null,
      "outputs": [
        {
          "output_type": "stream",
          "name": "stdout",
          "text": [
            "A C D B E F "
          ]
        }
      ]
    },
    {
      "cell_type": "code",
      "source": [
        "class Node:\n",
        "    def __init__(self, key):\n",
        "        self.left = None\n",
        "        self.right = None\n",
        "        self.val = key\n",
        "\n",
        "def postorderTraversal(root):\n",
        "    if root:\n",
        "        postorderTraversal(root.left)\n",
        "        postorderTraversal(root.right)\n",
        "        print(root.val, end=\" \")\n",
        "\n",
        "# Creating a binary tree\n",
        "root = Node('D')\n",
        "root.left = Node('B')\n",
        "root.left.left = Node('C')\n",
        "root.left.right = Node('E')\n",
        "root.left.right.left = Node('A')\n",
        "root.right = Node('F')\n",
        "\n",
        "# Performing postorder traversal\n",
        "postorderTraversal(root)"
      ],
      "metadata": {
        "colab": {
          "base_uri": "https://localhost:8080/"
        },
        "id": "CIFVXR412Agm",
        "outputId": "a6038930-b99f-4f88-ad9a-c9472fa4cb03"
      },
      "execution_count": null,
      "outputs": [
        {
          "output_type": "stream",
          "name": "stdout",
          "text": [
            "C A E B F D "
          ]
        }
      ]
    },
    {
      "cell_type": "code",
      "source": [
        "def isValid(s):\n",
        "    stack = []\n",
        "    bracket_mapping = {'(': ')', '{': '}', '[': ']'}\n",
        "\n",
        "    for char in s:\n",
        "        if char in bracket_mapping:\n",
        "            stack.append(char)\n",
        "        elif char in bracket_mapping.values():\n",
        "            if not stack or bracket_mapping[stack.pop()] != char:\n",
        "                return False\n",
        "\n",
        "    return not stack\n",
        "\n",
        "\n",
        "# Test cases\n",
        "print(isValid(\"( )\"))  # Output: True\n",
        "print(isValid(\"( )[ ]{ }\"))  # Output: True\n",
        "print(isValid(\"( ]\"))  # Output: False\n",
        "\n"
      ],
      "metadata": {
        "colab": {
          "base_uri": "https://localhost:8080/"
        },
        "id": "Xxpeky_9yWlF",
        "outputId": "ad0da03e-2c71-4a5e-b162-a6a1fd900544"
      },
      "execution_count": null,
      "outputs": [
        {
          "output_type": "stream",
          "name": "stdout",
          "text": [
            "True\n",
            "True\n",
            "False\n"
          ]
        }
      ]
    },
    {
      "cell_type": "code",
      "source": [
        "n = int(input(\"Enter a number: \"))\n",
        "\n",
        "if n <= 2:\n",
        "    print(\"the number is prime\")\n",
        "else:\n",
        "    for i in range(2,n):\n",
        "        if n%i==0:\n",
        "            print(\"the number is not a prime\")\n",
        "            break\n",
        "    else:\n",
        "        print(n,\"is a prime number\")"
      ],
      "metadata": {
        "id": "A5gR9iVDaiV9"
      },
      "execution_count": null,
      "outputs": []
    },
    {
      "cell_type": "code",
      "source": [],
      "metadata": {
        "id": "igpa1fADiXVo"
      },
      "execution_count": null,
      "outputs": []
    },
    {
      "cell_type": "code",
      "execution_count": null,
      "metadata": {
        "id": "6Yruk7ttaGFD"
      },
      "outputs": [],
      "source": [
        "n=int(input(\"enter the number\"))\n",
        "\n",
        "fact=1\n",
        "i=1\n",
        "while i<=n:\n",
        "    fact=fact*i\n",
        "    i+=1\n",
        "print(fact)"
      ]
    },
    {
      "cell_type": "code",
      "source": [
        "def fact(n):\n",
        "    if n==0:\n",
        "        return 1\n",
        "    else:\n",
        "        return n*fact(n-1)\n",
        "print(\"Factorial of\",fact(3))"
      ],
      "metadata": {
        "id": "xZ4fOpUiB_6r"
      },
      "execution_count": null,
      "outputs": []
    },
    {
      "cell_type": "code",
      "source": [
        "for row in range(7):\n",
        "    for col in range(5):\n",
        "        if col==0 or row==0 or row==3 or row==6 :\n",
        "            print(\"*\",end=\"\")\n",
        "        else:\n",
        "            print(\"\",end=\"\")\n",
        "    print()"
      ],
      "metadata": {
        "id": "y6FeukiOfpnx"
      },
      "execution_count": null,
      "outputs": []
    },
    {
      "cell_type": "code",
      "source": [
        "def palindrome(n):\n",
        "    string = str(n)\n",
        "    rev = string[::-1]\n",
        "    if string==rev:\n",
        "        print(f\"{n} is a palindrome.\")\n",
        "    else:\n",
        "        print(f\"{n} is not a palindrome.\")\n",
        "n = input(\"Enter a number: \")\n",
        "palindrome(n)"
      ],
      "metadata": {
        "colab": {
          "base_uri": "https://localhost:8080/"
        },
        "id": "n0phIug4hTA5",
        "outputId": "eb6de884-c42e-4922-bb36-868230d61459"
      },
      "execution_count": null,
      "outputs": [
        {
          "output_type": "stream",
          "name": "stdout",
          "text": [
            "Enter a number: soo\n",
            "soo is not a palindrome.\n"
          ]
        }
      ]
    },
    {
      "cell_type": "code",
      "source": [
        "for num in range(1,15):\n",
        "    if num%2==0 and num%3==0:\n",
        "        print(\"karunyauniversity\")\n",
        "    elif num%2==0:\n",
        "        print(\"karunya\")\n",
        "    elif num%3==0:\n",
        "        print(\"university\")\n",
        "    else:\n",
        "        print(num)"
      ],
      "metadata": {
        "id": "0rSYgdsPGcjM"
      },
      "execution_count": null,
      "outputs": []
    },
    {
      "cell_type": "markdown",
      "source": [
        "EXNO:2"
      ],
      "metadata": {
        "id": "sH2CF8C0MLua"
      }
    },
    {
      "cell_type": "code",
      "source": [
        "def arm(n):\n",
        "    st=str(n)\n",
        "    ndig=len(st)\n",
        "    arm = 0\n",
        "    for dig in st:\n",
        "        arm +=int(dig)**ndig\n",
        "    if arm == n:\n",
        "        print(\"arm\")\n",
        "    else:\n",
        "        print(\"not a arm\")\n",
        "n = int(input(\"Enter a number: \"))\n",
        "arm(n)"
      ],
      "metadata": {
        "id": "M89SnyVHIBYa"
      },
      "execution_count": null,
      "outputs": []
    },
    {
      "cell_type": "code",
      "source": [
        "def is_perfect_number(num):\n",
        "\n",
        "    div = []\n",
        "    for i in range(1, num):\n",
        "        if num % i == 0:\n",
        "            div.append(i)\n",
        "\n",
        "    divisors_sum = sum(div)\n",
        "    return divisors_sum == num\n",
        "\n",
        "number = int(input(\"Enter a positive integer: \"))\n",
        "if is_perfect_number(number):\n",
        "    print(number, \"is a perfect number.\")\n",
        "else:\n",
        "    print(number, \"is not a perfect number.\")"
      ],
      "metadata": {
        "id": "EuzmHfirOWvF"
      },
      "execution_count": null,
      "outputs": []
    },
    {
      "cell_type": "code",
      "source": [
        "def is_happy_number(num):\n",
        "    seen_numbers = set()\n",
        "\n",
        "    while num != 1 and num not in seen_numbers:\n",
        "        seen_numbers.add(num)\n",
        "        num = sum(int(digit) ** 2 for digit in str(num))\n",
        "\n",
        "    return num == 1\n",
        "\n",
        "number = int(input(\"Enter a positive integer: \"))\n",
        "if is_happy_number(number):\n",
        "    print(number, \"is a happy number.\")\n",
        "else:\n",
        "    print(number, \"is not a happy number.\")"
      ],
      "metadata": {
        "id": "jWDiZCqAOkPh"
      },
      "execution_count": null,
      "outputs": []
    },
    {
      "cell_type": "code",
      "source": [
        "def up(s):\n",
        "    count = 0\n",
        "    for char in s:\n",
        "        if char.isupper():\n",
        "            count += 1\n",
        "    return count\n",
        "\n",
        "def lo(s):\n",
        "    count = 0\n",
        "    for char in s:\n",
        "        if char.islower():\n",
        "            count += 1\n",
        "    return count\n",
        "\n",
        "def wh(s):\n",
        "    count = 0\n",
        "    for char in s:\n",
        "        if char.isspace():\n",
        "            count += 1\n",
        "    return count\n",
        "\n",
        "input_string = input(\"Enter any string: \")\n",
        "print(\"Uppercase:\", up(input_string))\n",
        "print(\"Lowercase:\", lo(input_string))\n",
        "print(\"Whitespaces:\", wh(input_string))"
      ],
      "metadata": {
        "id": "eGSE54ajcSVO"
      },
      "execution_count": null,
      "outputs": []
    },
    {
      "cell_type": "code",
      "source": [
        "def div(num):\n",
        "    ls=num[-1]\n",
        "    divs=[]\n",
        "    for i in range(1,ls+1):\n",
        "        if ls%i==0:\n",
        "            divs.append(i)\n",
        "    if (len(divs))>0:\n",
        "        print(\"\\n\",ls,\" :\",end=\" \")\n",
        "        for div in divs:\n",
        "            print(div,end=\" \")\n",
        "div([6, 7, 8,10])\n",
        "div([1, 2, 5, 7, 9])\n",
        "div([1, 3, 5, 7, 9, 12])\n"
      ],
      "metadata": {
        "id": "k60ykycwfhiu"
      },
      "execution_count": null,
      "outputs": []
    },
    {
      "cell_type": "markdown",
      "source": [
        "EXNO3"
      ],
      "metadata": {
        "id": "SWd-5evRrIuv"
      }
    },
    {
      "cell_type": "code",
      "source": [
        "\n",
        "def sw(n1,n2):\n",
        "    sw1=n2[0]+n1[1:]\n",
        "    sw2=n1[0]+n2[1:]\n",
        "    result= sw1+\" \"+sw2\n",
        "    return result\n",
        "\n",
        "n1 = input(\"Enter the first string: \")\n",
        "n2 = input(\"Enter the second string: \")\n",
        "sw(n1,n2)\n"
      ],
      "metadata": {
        "id": "XB0B3OG3rMhR"
      },
      "execution_count": null,
      "outputs": []
    },
    {
      "cell_type": "code",
      "source": [
        "def re(st):\n",
        "    c1=st[0]\n",
        "    new=c1+st[1:].replace(c1,\"*\")\n",
        "    return new\n",
        "n=str(input(\"enter yor name:\"))\n",
        "re(n)"
      ],
      "metadata": {
        "id": "JV9C1gi_tYsf",
        "colab": {
          "base_uri": "https://localhost:8080/",
          "height": 52
        },
        "outputId": "19624747-738a-410a-b00a-96b43afb1ab5"
      },
      "execution_count": null,
      "outputs": [
        {
          "name": "stdout",
          "output_type": "stream",
          "text": [
            "enter yor name:eeeeeeee\n"
          ]
        },
        {
          "output_type": "execute_result",
          "data": {
            "text/plain": [
              "'e*******'"
            ],
            "application/vnd.google.colaboratory.intrinsic+json": {
              "type": "string"
            }
          },
          "metadata": {},
          "execution_count": 48
        }
      ]
    },
    {
      "cell_type": "code",
      "source": [
        "def second(string):\n",
        "    words = string.split()\n",
        "    word_counts = {}\n",
        "\n",
        "    for word in words:\n",
        "        word_counts[word] = word_counts.get(word, 0) + 1\n",
        "\n",
        "    sorted_words = sorted(word_counts, key=word_counts.get, reverse=True)\n",
        "    second_most_common_word = sorted_words[1]\n",
        "\n",
        "    return second_most_common_word\n",
        "\n",
        "input_string = input(\"Enter a string: \")\n",
        "second(input_string)\n"
      ],
      "metadata": {
        "id": "TKDLECoaupxy"
      },
      "execution_count": null,
      "outputs": []
    },
    {
      "cell_type": "code",
      "source": [
        "if __name__ == '__main__':\n",
        "    s = input()\n",
        "    print(any(map(str.isalnum, s)))\n",
        "    print(any(map(str.isalpha, s)))\n",
        "    print(any(map(str.isdigit, s)))\n",
        "    print(any(map(str.islower, s)))\n",
        "    print(any(map(str.isupper, s)))\n"
      ],
      "metadata": {
        "id": "0YyngY2s3jsb"
      },
      "execution_count": null,
      "outputs": []
    },
    {
      "cell_type": "code",
      "source": [
        "n = \"hello welcome\"\n",
        "lst = [\"l\", \"w\", \"m\", \"e\"]\n",
        "out = {x: n.count(x) for x in set(lst)}\n",
        "print( out)"
      ],
      "metadata": {
        "id": "SmyQpE6D3riS"
      },
      "execution_count": null,
      "outputs": []
    },
    {
      "cell_type": "code",
      "source": [
        "\n",
        "def notb(s1):\n",
        "    snot = s1.find('not')\n",
        "    spoor = s1.find('poor')\n",
        "\n",
        "    if snot != -1 and spoor != -1 and spoor > snot:\n",
        "        s1 = s1[:snot] + 'good' + s1[spoor+4:]\n",
        "\n",
        "    return s1\n",
        "\n",
        "print(notb('The movie is not that poor!'))\n",
        "print(notb('The movie is poor!'))"
      ],
      "metadata": {
        "id": "6bKqZBmR31mm"
      },
      "execution_count": null,
      "outputs": []
    },
    {
      "cell_type": "code",
      "source": [
        "items = input(\"black:\")\n",
        "items=list(map(str,items.split(\",\")))\n",
        "print(\",\".join(list(set(items))))"
      ],
      "metadata": {
        "id": "pssN4fLp5wGQ"
      },
      "execution_count": null,
      "outputs": []
    },
    {
      "cell_type": "code",
      "source": [
        "string = input(\"Enter string: \")\n",
        "substring = input(\"Enter substring: \")\n",
        "\n",
        "count = string.count(substring)\n",
        "\n",
        "print(\"Occurrences of substring:\", count)"
      ],
      "metadata": {
        "id": "_0s1W0hV8RqM"
      },
      "execution_count": null,
      "outputs": []
    },
    {
      "cell_type": "markdown",
      "source": [
        "EXNO4"
      ],
      "metadata": {
        "id": "FrQ31jcI8t0D"
      }
    },
    {
      "cell_type": "code",
      "source": [
        "def large(list1):\n",
        "    list1.sort()\n",
        "    print(\"Second Largest element is:\", list1[-2])\n",
        "    print(\"Second Smallest element is:\", list1[1])\n",
        "\n",
        "list1 = [12, 45, 2, 41, 31, 10, 8, 6, 4]\n",
        "large(list1)\n"
      ],
      "metadata": {
        "colab": {
          "base_uri": "https://localhost:8080/"
        },
        "id": "Y5vfuqJ_8wlv",
        "outputId": "b044f95f-e76a-47e5-cafe-12a8c30fdbf0"
      },
      "execution_count": null,
      "outputs": [
        {
          "output_type": "stream",
          "name": "stdout",
          "text": [
            "Second Largest element is: 41\n",
            "Second Smallest element is: 4\n"
          ]
        }
      ]
    },
    {
      "cell_type": "code",
      "source": [
        "list1=input(\"enter the list\")\n",
        "list1=list(map(int,list1.split(\",\")))\n",
        "rev=list1[::-1]\n",
        "print(rev)"
      ],
      "metadata": {
        "colab": {
          "base_uri": "https://localhost:8080/"
        },
        "id": "Fz5U01aE-2Fa",
        "outputId": "0306237e-3a9b-4ce4-a7a1-d9d3ef4b27a6"
      },
      "execution_count": null,
      "outputs": [
        {
          "output_type": "stream",
          "name": "stdout",
          "text": [
            "enter the list3,2,4,1,23,5\n",
            "[5, 23, 1, 4, 2, 3]\n"
          ]
        }
      ]
    },
    {
      "cell_type": "code",
      "source": [
        "import collections\n",
        "list1=input(\"enter the list\")\n",
        "list1=list(map(int,list1.split(\",\")))\n",
        "\n",
        "collections.Counter(list1)\n"
      ],
      "metadata": {
        "colab": {
          "base_uri": "https://localhost:8080/"
        },
        "id": "GOWfzbgb_t-3",
        "outputId": "00ac971b-bc0a-4348-aeeb-f273c5d30209"
      },
      "execution_count": null,
      "outputs": [
        {
          "name": "stdout",
          "output_type": "stream",
          "text": [
            "enter the list4,3,4,3,4,3,5,4,5\n"
          ]
        },
        {
          "output_type": "execute_result",
          "data": {
            "text/plain": [
              "Counter({4: 4, 3: 3, 5: 2})"
            ]
          },
          "metadata": {},
          "execution_count": 194
        }
      ]
    },
    {
      "cell_type": "code",
      "source": [
        "def duplicates(lst):\n",
        "    return list(set(lst))\n",
        "\n",
        "\n",
        "a = [10, 20, 30, 20, 10, 50, 60, 40, 80, 50, 40]\n",
        "duplicates(a)\n"
      ],
      "metadata": {
        "colab": {
          "base_uri": "https://localhost:8080/"
        },
        "id": "6B5SJ3FsBAqw",
        "outputId": "f254c8b4-f115-4528-bb4e-ebba1d416788"
      },
      "execution_count": null,
      "outputs": [
        {
          "output_type": "execute_result",
          "data": {
            "text/plain": [
              "[40, 10, 80, 50, 20, 60, 30]"
            ]
          },
          "metadata": {},
          "execution_count": 53
        }
      ]
    },
    {
      "cell_type": "code",
      "source": [
        "import random\n",
        "a = []\n",
        "n = 10\n",
        "for j in range(n):\n",
        "    a.append(random.randint(1,50))\n",
        "print(a)\n"
      ],
      "metadata": {
        "colab": {
          "base_uri": "https://localhost:8080/"
        },
        "id": "LlIw-vv0BbBQ",
        "outputId": "7b9bc840-59b8-4f2c-c890-a943e62aac86"
      },
      "execution_count": null,
      "outputs": [
        {
          "output_type": "stream",
          "name": "stdout",
          "text": [
            "[43, 32, 22, 38, 9, 9, 1, 5, 22, 17]\n"
          ]
        }
      ]
    },
    {
      "cell_type": "code",
      "source": [
        "list1 = input(\"Enter elements of the list\")\n",
        "list1 = list(map(int,list1.split(\",\")))\n",
        "\n",
        "list1.sort()\n",
        "print(list1[0])\n",
        "print(list1[-1])"
      ],
      "metadata": {
        "colab": {
          "base_uri": "https://localhost:8080/"
        },
        "id": "CJ3ayTsEGMfG",
        "outputId": "6696ee62-38c4-418e-d148-e842a528c360"
      },
      "execution_count": null,
      "outputs": [
        {
          "output_type": "stream",
          "name": "stdout",
          "text": [
            "Enter elements of the list1,2,3,4,5,34,23\n",
            "1\n",
            "34\n"
          ]
        }
      ]
    },
    {
      "cell_type": "markdown",
      "source": [
        "EXNO5"
      ],
      "metadata": {
        "id": "1dEE9Ur_JHm4"
      }
    },
    {
      "cell_type": "code",
      "source": [
        "inventory = {\n",
        "'gold' : 500,\n",
        "'pouch' : ['flint', 'twine', 'gemstone'],\n",
        "'backpack' : ['xylophone','dagger', 'bedroll','bread loaf']\n",
        "}\n",
        "inventory['pocket']=['seashell', 'strange berry', 'lint']\n",
        "inventory['backpack'].sort()\n",
        "inventory['backpack'].remove('dagger')\n",
        "inventory['gold']=inventory['gold']+50\n",
        "print(inventory)"
      ],
      "metadata": {
        "colab": {
          "base_uri": "https://localhost:8080/"
        },
        "id": "o0OmduY0JKnT",
        "outputId": "1991c12d-5791-40dc-a0f8-ce1cc0f5e0cc"
      },
      "execution_count": null,
      "outputs": [
        {
          "output_type": "stream",
          "name": "stdout",
          "text": [
            "{'gold': 550, 'pouch': ['flint', 'twine', 'gemstone'], 'backpack': ['bedroll', 'bread loaf', 'xylophone'], 'pocket': ['seashell', 'strange berry', 'lint']}\n"
          ]
        }
      ]
    },
    {
      "cell_type": "code",
      "source": [
        "prices={}\n",
        "prices[\"banana\"]=4\n",
        "prices[\"apple\"]= 2\n",
        "prices[\"orange\"]= 1.5\n",
        "prices[\"pear\"]= 3\n",
        "stock={}\n",
        "stock[\"banana\"]= 6\n",
        "stock[\"apple\"]= 0\n",
        "stock[\"orange\"] =32\n",
        "stock[\"pear\"]= 15\n",
        "for food in prices:\n",
        "    print(food)\n",
        "    print(\"price:\" ,prices[food])\n",
        "    print(\"stock:\" ,stock[food])\n",
        "    total=0\n",
        "\n",
        "for price in prices:\n",
        "    money= prices[price]*stock[price]\n",
        "    print(money)\n",
        "    total=total +money\n",
        "    print(\"The total money is\", total)\n",
        "\n",
        "\n",
        "\n",
        "\n",
        "\n"
      ],
      "metadata": {
        "colab": {
          "base_uri": "https://localhost:8080/"
        },
        "id": "ElBlDOcJVp7R",
        "outputId": "3099aa30-4ccc-44f3-d217-b7b5b2618d8e"
      },
      "execution_count": null,
      "outputs": [
        {
          "output_type": "stream",
          "name": "stdout",
          "text": [
            "banana\n",
            "price: 4\n",
            "stock: 6\n",
            "apple\n",
            "price: 2\n",
            "stock: 0\n",
            "orange\n",
            "price: 1.5\n",
            "stock: 32\n",
            "pear\n",
            "price: 3\n",
            "stock: 15\n",
            "24\n",
            "The total money is 24\n",
            "0\n",
            "The total money is 24\n",
            "48.0\n",
            "The total money is 72.0\n",
            "45\n",
            "The total money is 117.0\n"
          ]
        }
      ]
    },
    {
      "cell_type": "code",
      "source": [
        "shopping_list = [\"banana\", \"orange\", \"apple\"]\n",
        "stock = { \"banana\": 6, \"apple\": 0, \"orange\": 32, \"pear\": 15 }\n",
        "prices = { \"banana\": 4, \"apple\": 2, \"orange\": 1.5, \"pear\": 3 }\n",
        "def compute_bill(food):\n",
        "    total=0\n",
        "    for x in food:\n",
        "        price= prices[x]\n",
        "        if stock[x]>0:\n",
        "            total=total +price\n",
        "            stock[x]=stock[x] -1\n",
        "            print(total)\n",
        "compute_bill(shopping_list)"
      ],
      "metadata": {
        "colab": {
          "base_uri": "https://localhost:8080/"
        },
        "id": "tR9vPUwaaxlI",
        "outputId": "dc2d7867-4b58-4638-a293-5f738fac22a1"
      },
      "execution_count": null,
      "outputs": [
        {
          "output_type": "stream",
          "name": "stdout",
          "text": [
            "4\n",
            "5.5\n"
          ]
        }
      ]
    },
    {
      "cell_type": "code",
      "source": [
        "lloyd = {\"name\" : \"Lloyd\", \"homework\" : [90.0, 97.0, 75.0, 92.0], \"quizzes\" : [88.0, 40.0, 94.0], \"tests\" : [75.0, 90.0]}\n",
        "alice = {\"name\" : \"Alice\", \"homework\" : [100.0, 92.0, 98.0, 100.0], \"quizzes\" : [82.0, 83.0, 91.0], \"tests\": [89.0, 97.0]}\n",
        "tyler = {\"name\" : \"Tyler\", \"homework\" : [0.0, 87.0, 75.0, 22.0], \"quizzes\": [0.0, 75.0, 78.0], \"tests\": [100.0, 100.0]}\n",
        "sts = [lloyd,alice,tyler]\n",
        "for st in sts:\n",
        "    print(st[\"name\"])\n",
        "    print(st[\"homework\"])\n",
        "    print(st[\"quizzes\"])\n",
        "    print(st[\"tests\"])\n",
        "    def average(numbers):\n",
        "        total = sum(numbers)\n",
        "        total = float(total)\n",
        "        media = total / (len(numbers))\n",
        "        print(media)"
      ],
      "metadata": {
        "colab": {
          "base_uri": "https://localhost:8080/"
        },
        "id": "r_Kt5lk6fmK4",
        "outputId": "90ab4964-7553-4a2d-ffee-b52edcba31b9"
      },
      "execution_count": null,
      "outputs": [
        {
          "output_type": "stream",
          "name": "stdout",
          "text": [
            "Lloyd\n",
            "[90.0, 97.0, 75.0, 92.0]\n",
            "[88.0, 40.0, 94.0]\n",
            "[75.0, 90.0]\n",
            "Alice\n",
            "[100.0, 92.0, 98.0, 100.0]\n",
            "[82.0, 83.0, 91.0]\n",
            "[89.0, 97.0]\n",
            "Tyler\n",
            "[0.0, 87.0, 75.0, 22.0]\n",
            "[0.0, 75.0, 78.0]\n",
            "[100.0, 100.0]\n"
          ]
        }
      ]
    },
    {
      "cell_type": "code",
      "source": [
        "with open(\"1023.txt\", \"r\") as myfile:\n",
        "   my_data = myfile.read()\n",
        "rev_data = my_data[::-1]\n",
        "print(\"Reversed data = \",rev_data)"
      ],
      "metadata": {
        "id": "oKXP4_abhEXx"
      },
      "execution_count": null,
      "outputs": []
    },
    {
      "cell_type": "code",
      "source": [
        "with open('urk22ai1023.txt','r') as firstfile, open('URK22AI1023.txt','a') as secondfile:\n",
        "    for line in firstfile:\n",
        "\t    secondfile.write(line)"
      ],
      "metadata": {
        "id": "n_6kK0DlhqhA"
      },
      "execution_count": null,
      "outputs": []
    },
    {
      "cell_type": "code",
      "source": [
        "my_list = [\"abc\", \"phy\", \"and\", \"okay\", \"educate\", \"learn\", \"code\"]\n",
        "print(\"The list is :\")\n",
        "print(my_list)\n",
        "my_result = []\n",
        "my_vowel = \"aeiou\"\n",
        "print(\"The vowels are:\",end=\"\")\n",
        "print(my_vowel)\n",
        "for index in my_list:\n",
        "   my_flag = False\n",
        "   for element in my_vowel:\n",
        "      if index.startswith(element):\n",
        "         my_flag = True\n",
        "         break\n",
        "   if my_flag:\n",
        "      my_result.append(index)\n",
        "print(\"The result is :\",end=\"\")\n",
        "print(my_result)"
      ],
      "metadata": {
        "id": "0rf6zwbKhtoA",
        "colab": {
          "base_uri": "https://localhost:8080/"
        },
        "outputId": "ffa55b81-1608-41c1-a1ac-860adc76b64e"
      },
      "execution_count": null,
      "outputs": [
        {
          "output_type": "stream",
          "name": "stdout",
          "text": [
            "The list is :\n",
            "['abc', 'phy', 'and', 'okay', 'educate', 'learn', 'code']\n",
            "The vowels are:aeiou\n",
            "The result is :['abc', 'and', 'okay', 'educate']\n"
          ]
        }
      ]
    },
    {
      "cell_type": "code",
      "source": [
        "n = int(input(\"Enter the number of lines: \"))\n",
        "f = open(\"readLine.txt\", \"r\")\n",
        "for i in range(0, n):\n",
        "  line = f.readline()\n",
        "  print(line)#To write a python program to read n lines from a file."
      ],
      "metadata": {
        "id": "9yIi_Ofyl9Zn"
      },
      "execution_count": null,
      "outputs": []
    },
    {
      "cell_type": "code",
      "source": [
        "f = open(\"readLine.txt\", \"r\")\n",
        "s = f.read()\n",
        "lst = s.split()\n",
        "print(max(lst, key=len))#To write a python program to find the longest word in a file."
      ],
      "metadata": {
        "id": "fXfy9QkGmB-K"
      },
      "execution_count": null,
      "outputs": []
    },
    {
      "cell_type": "code",
      "source": [
        "class Worker:\n",
        "    def __init__(self, name, salary_rate):\n",
        "        self.name = name\n",
        "        self.salary_rate = salary_rate\n",
        "\n",
        "    def pay(self, hours):\n",
        "        pass\n",
        "\n",
        "\n",
        "class DailyWorker(Worker):\n",
        "    def init (self, name, salary_rate):\n",
        "        super().__init__(name, salary_rate)\n",
        "\n",
        "    def pay(self, days):\n",
        "        return self.salary_rate * days\n",
        "\n",
        "class SalariedWorker(Worker):\n",
        "    def init (self, name, salary_rate):\n",
        "        super().__init__(name, salary_rate)\n",
        "\n",
        "    def pay(self, hours):\n",
        "        if hours == 40:\n",
        "            return self.salary_rate * hours\n",
        "        else:\n",
        "            return self.salary_rate * 35\n",
        "\n",
        "dw = DailyWorker(\"soorya\", 1000)\n",
        "print(dw.pay(5))\n",
        "\n",
        "sw = SalariedWorker(\"dinesh\", 1020)\n",
        "print(sw.pay(35))"
      ],
      "metadata": {
        "colab": {
          "base_uri": "https://localhost:8080/"
        },
        "id": "MzcY1WF3CWLn",
        "outputId": "5cd3cb94-8a3f-4fdb-e8f9-86525edccc0c"
      },
      "execution_count": null,
      "outputs": [
        {
          "output_type": "stream",
          "name": "stdout",
          "text": [
            "5000\n",
            "35700\n"
          ]
        }
      ]
    },
    {
      "cell_type": "code",
      "source": [
        "class Employee:\n",
        "    def __init__(self,emp_id,name,basic_salary):\n",
        "        self.emp_id = emp_id\n",
        "        self.name = name\n",
        "        self.basic_salary = basic_salary\n",
        "    def calculate_gross_salary(self):\n",
        "        pass\n",
        "    def calculate_tax(self):\n",
        "        gross_salary = self.calculate_gross_salary()\n",
        "        if gross_salary <= 5000:\n",
        "            return 0\n",
        "        elif gross_salary <= 10000:\n",
        "            return 0.1*gross_salary\n",
        "        else:\n",
        "            return 0.2 * gross_salary\n",
        "    def calculate_net_salary(self):\n",
        "        tax = self.calculate_tax()\n",
        "        return self.calculate_gross_salary()-tax\n",
        "\n",
        "class Manager(Employee):\n",
        "    def __init__(self,emp_id,name,basic_salary):\n",
        "        super().__init__(emp_id,name,basic_salary)\n",
        "    def calculate_gross_salary(self):\n",
        "        return self.basic_salary + 0.1 * self.basic_salary\n",
        "class Engineer(Employee):\n",
        "    def __init__(self,emp_id,name,basic_salary):\n",
        "        super().__init__(emp_id,name,basic_salary)\n",
        "    def calculate_gross_salary(self):\n",
        "        return self.basic_salary + 0.2 * self.basic_salary\n",
        "\n",
        "\n",
        "emp1 = Manager(1,\"soorya\",300000)\n",
        "emp2 = Engineer(2,\"dinesh\",100000)\n",
        "\n",
        "while True:\n",
        "    print(\"Menu:\\n1.Gross salary,net,tax \\n2.Exit\")\n",
        "    choice = int(input(\"Enter your choice:\"))\n",
        "    if choice == 1:\n",
        "        emp = int(input(\"Enter Employee ID:\"))\n",
        "        if emp == 1023:\n",
        "            print(\"Employee ID:1023\\nEmployee name:soorya\")\n",
        "            print(f\"Gross selary:{emp1.calculate_gross_salary()}\")\n",
        "            print(f\"net:{emp1.calculate_net_salary()}\")\n",
        "            print(f\"tax:{emp1.calculate_tax()}\")\n",
        "        elif emp== 1022:\n",
        "            print(\"Employee ID:1022\\nEmployee name:dinesh\")\n",
        "            print(f\"Gross selary:{emp2.calculate_gross_salary()}\")\n",
        "            print(f\"net:{emp2.calculate_net_salary()}\")\n",
        "            print(f\"tax:{emp2.calculate_tax()}\")\n",
        "\n",
        "        else:\n",
        "            print(\"Invalid employee id:\")\n",
        "\n",
        "\n",
        "    elif choice == 2:\n",
        "        break\n"
      ],
      "metadata": {
        "colab": {
          "base_uri": "https://localhost:8080/"
        },
        "id": "ME0nXplaFpKR",
        "outputId": "60a9bb4e-c359-4e44-a9d6-40e6854728ec"
      },
      "execution_count": null,
      "outputs": [
        {
          "name": "stdout",
          "output_type": "stream",
          "text": [
            "Menu:\n",
            "1.Gross salary,net,tax \n",
            "2.Exit\n",
            "Enter your choice:1\n",
            "Enter Employee ID:1023\n",
            "Employee ID:1023\n",
            "Employee name:soorya\n",
            "Gross selary:330000.0\n",
            "net:264000.0\n",
            "tax:66000.0\n",
            "Menu:\n",
            "1.Gross salary,net,tax \n",
            "2.Exit\n",
            "Enter your choice:2\n"
          ]
        }
      ]
    },
    {
      "cell_type": "code",
      "source": [
        "class EM:\n",
        "    def __init__(self,id,name,bs):\n",
        "        self.id=id\n",
        "        self.name=name\n",
        "        self.bs=bs\n",
        "    def cal_gs(self):\n",
        "        pass\n",
        "    def cal_tax(self):\n",
        "        gs=self.cal_gs()\n",
        "        if gs<=5000:\n",
        "            return 0\n",
        "        elif 5000< gs <=10000:\n",
        "            return 1.2\n",
        "        else:\n",
        "            return 2.2\n",
        "    def net_s(self):\n",
        "        tax=self.cal_tax()\n",
        "        return self.cal_gs()-tax\n",
        "class Man(EM):\n",
        "    def __init__(self,id,name,bs):\n",
        "        super().__init__(id,name,bs)\n",
        "    def cal_gs(self):\n",
        "        return self.bs+1.2*self.bs\n",
        "\n",
        "class En(EM):\n",
        "    def __init__(self,id,name,bs):\n",
        "        super().__init__(id,name,bs)\n",
        "    def cal_gs(self):\n",
        "        return self.bs+2.2*self.bs\n",
        "emp1=Man(1023,'soorya',100000)\n",
        "emp2=En(1048,'hari',200000)\n",
        "\n",
        "while True:\n",
        "    print(\"m\\nN1.gross,net,tax\\nN2.exit\")\n",
        "    choice = int(input(\"Enter your choice:\"))\n",
        "    if choice == 1:\n",
        "        emp=int(input(\"id\"))\n",
        "        if emp==1023:\n",
        "            print(\"Employee ID:1023\\nEmployee name:soorya\")\n",
        "            print(\"Gross selary:\",emp1.cal_gs())\n",
        "            print(f\"net:{emp1.net_s()}\")\n",
        "            print(f\"tax:{emp1.cal_tax()}\")\n",
        "        elif emp==1048:\n",
        "            print(\"Employee ID:1048\\nEmployee name:hari\")\n",
        "            print(f\"Gross selary:{emp2.cal_gs()}\")\n",
        "            print(f\"net:{emp2.net_s()}\")\n",
        "            print(f\"tax:{emp2.cal_tax()}\")\n",
        "\n",
        "        else:\n",
        "            print(\"Invalid employee id:\")\n",
        "    elif choice ==2:\n",
        "        break"
      ],
      "metadata": {
        "colab": {
          "base_uri": "https://localhost:8080/"
        },
        "id": "VDFSkV7aQFio",
        "outputId": "7d2e2b36-489b-4406-fd91-142b906f391d"
      },
      "execution_count": null,
      "outputs": [
        {
          "output_type": "stream",
          "name": "stdout",
          "text": [
            "m\n",
            "N1.gross,net,tax\n",
            "N2.exit\n"
          ]
        }
      ]
    },
    {
      "cell_type": "code",
      "source": [
        "\n",
        "\n",
        "import tkinter as tk\n",
        "\n",
        "class Calculator:\n",
        "    def __init__(self, master):\n",
        "        self.master = master\n",
        "        master.title(\"Simple Calculator\")\n",
        "\n",
        "        self.result_var = tk.StringVar()\n",
        "        result_label = tk.Label(master, textvariable=self.result_var, font=(\"Arial\", 16))\n",
        "        result_label.pack(padx=10, pady=10)\n",
        "\n",
        "        button_frame = tk.Frame(master)\n",
        "        button_frame.pack(padx=10, pady=10)\n",
        "\n",
        "        add_button = tk.Button(button_frame, text=\"+\", command=lambda: self.calculate(\"+\"))\n",
        "        add_button.pack(side=tk.LEFT, padx=5)\n",
        "\n",
        "        sub_button = tk.Button(button_frame, text=\"-\", command=lambda: self.calculate(\"-\"))\n",
        "        sub_button.pack(side=tk.LEFT, padx=5)\n",
        "\n",
        "        mult_button = tk.Button(button_frame, text=\"\", command=lambda: self.calculate(\"\"))\n",
        "        mult_button.pack(side=tk.LEFT, padx=5)\n",
        "\n",
        "        div_button = tk.Button(button_frame, text=\"/\", command=lambda: self.calculate(\"/\"))\n",
        "        div_button.pack(side=tk.LEFT, padx=5)\n",
        "\n",
        "        clear_button = tk.Button(button_frame, text=\"Clear\", command=self.clear)\n",
        "        clear_button.pack(side=tk.LEFT, padx=5)\n",
        "\n",
        "        quit_button = tk.Button(button_frame, text=\"Quit\", command=master.quit)\n",
        "        quit_button.pack(side=tk.LEFT, padx=5)\n",
        "\n",
        "        self.num1_entry = tk.Entry(master, font=(\"Arial\", 16))\n",
        "        self.num1_entry.pack(padx=10, pady=10)\n",
        "\n",
        "        self.num2_entry = tk.Entry(master, font=(\"Arial\", 16))\n",
        "        self.num2_entry.pack(padx=10, pady=10)\n",
        "\n",
        "    def calculate(self, operator):\n",
        "        num1 = float(self.num1_entry.get())\n",
        "        num2 = float(self.num2_entry.get())\n",
        "\n",
        "        if operator == \"+\":\n",
        "            result = num1 + num2\n",
        "        elif operator == \"-\":\n",
        "            result = num1 - num2\n",
        "        elif operator == \"*\":\n",
        "            result = num1 * num2\n",
        "        elif operator == \"/\":\n",
        "            result = num1 / num2\n",
        "\n",
        "        self.result_var.set(str(result))\n",
        "\n",
        "    def clear(self):\n",
        "        self.num1_entry.delete(0, tk.END)\n",
        "        self.num2_entry.delete(0, tk.END)\n",
        "        self.result_var.set(\"\")\n",
        "\n",
        "root = tk.Tk()\n",
        "calculator = Calculator(root)\n",
        "root.mainloop()"
      ],
      "metadata": {
        "id": "mkz_jZJTXXFg"
      },
      "execution_count": null,
      "outputs": []
    }
  ]
}