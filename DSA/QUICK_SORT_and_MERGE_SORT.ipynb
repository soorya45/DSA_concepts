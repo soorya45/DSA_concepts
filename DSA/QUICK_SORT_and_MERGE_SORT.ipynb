{
  "nbformat": 4,
  "nbformat_minor": 0,
  "metadata": {
    "colab": {
      "provenance": []
    },
    "kernelspec": {
      "name": "python3",
      "display_name": "Python 3"
    },
    "language_info": {
      "name": "python"
    }
  },
  "cells": [
    {
      "cell_type": "markdown",
      "source": [
        "QUICK_SORT"
      ],
      "metadata": {
        "id": "sAWMZ7euQjH9"
      }
    },
    {
      "cell_type": "code",
      "execution_count": null,
      "metadata": {
        "id": "cCbifLwENumY",
        "colab": {
          "base_uri": "https://localhost:8080/"
        },
        "outputId": "c2cce3fd-dfb5-48f8-dda5-f5acb05c6c63"
      },
      "outputs": [
        {
          "output_type": "stream",
          "name": "stdout",
          "text": [
            "Enter the unsorted array :7,6,5,34,23,56,57,1\n",
            "sorted array : [1, 5, 6, 7, 23, 34, 56, 57]\n"
          ]
        }
      ],
      "source": [
        "def quick_sort(arr):\n",
        "    if len(arr) <= 1:\n",
        "        return arr\n",
        "\n",
        "    mod = arr[len(arr) // 2]#partition value\n",
        "    left_s = [x for x in arr if x < mod] # x is less then partition\n",
        "    middle = [x for x in arr if x == mod]# x is equal to partition\n",
        "    right_s= [x for x in arr if x > mod]# x is greater then partition\n",
        "\n",
        "    return quick_sort(left_s) + middle + quick_sort(right_s)#arrange the order\n",
        "\n",
        "arr =input(\"Enter the unsorted array :\")\n",
        "arr=list(map(int,arr.split(\",\")))\n",
        "sorted_arr = quick_sort(arr)\n",
        "print(\"sorted array :\",sorted_arr)"
      ]
    },
    {
      "cell_type": "code",
      "source": [
        "def merge_sort(arr):\n",
        "    if len(arr) > 1:\n",
        "        mid = len(arr) // 2\n",
        "        left_half = arr[:mid]\n",
        "        right_half = arr[mid:]\n",
        "\n",
        "        merge_sort(left_half)\n",
        "        merge_sort(right_half)\n",
        "\n",
        "        i = j = k = 0\n",
        "        while i < len(left_half) and j < len(right_half):\n",
        "            if left_half[i] < right_half[j]:\n",
        "                arr[k] = left_half[i]\n",
        "                i += 1\n",
        "                k += 1\n",
        "            else:\n",
        "                arr[k] = right_half[j]\n",
        "                j += 1\n",
        "                k += 1\n",
        "\n",
        "        while i < len(left_half):\n",
        "            arr[k] = left_half[i]\n",
        "            i += 1\n",
        "            k += 1\n",
        "\n",
        "        while j < len(right_half):\n",
        "            arr[k] = right_half[j]\n",
        "            j += 1\n",
        "            k += 1\n",
        "\n",
        "    return arr\n",
        "\n",
        "arr =input(\"Enter the unsorted array :\")\n",
        "arr=list(map(int,arr.split(\",\")))\n",
        "merge_sort(arr)"
      ],
      "metadata": {
        "colab": {
          "base_uri": "https://localhost:8080/"
        },
        "id": "6LwY5vQdQ2-b",
        "outputId": "1dee5df5-cea6-41aa-aa3b-697eda9630bc"
      },
      "execution_count": null,
      "outputs": [
        {
          "output_type": "stream",
          "name": "stdout",
          "text": [
            "Enter the unsorted array :1,234,543,234,5\n",
            "[1, 5, 234, 234, 543]\n"
          ]
        }
      ]
    }
  ]
}