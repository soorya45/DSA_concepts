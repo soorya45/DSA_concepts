{
  "nbformat": 4,
  "nbformat_minor": 0,
  "metadata": {
    "colab": {
      "provenance": []
    },
    "kernelspec": {
      "name": "python3",
      "display_name": "Python 3"
    },
    "language_info": {
      "name": "python"
    }
  },
  "cells": [
    {
      "cell_type": "markdown",
      "source": [
        "linear search"
      ],
      "metadata": {
        "id": "sVly8382EcoP"
      }
    },
    {
      "cell_type": "code",
      "execution_count": null,
      "metadata": {
        "id": "_XsCD4eSBlnq",
        "colab": {
          "base_uri": "https://localhost:8080/"
        },
        "outputId": "ab44fd90-011f-49e2-b970-4cf7d97455dc"
      },
      "outputs": [
        {
          "output_type": "stream",
          "name": "stdout",
          "text": [
            "Enter the elements :1,2,3,5\n",
            "Enter the key :3\n",
            "Element found at 2\n"
          ]
        }
      ],
      "source": [
        "def linear_search(arr,key):\n",
        "  for i in range(0,len(arr)):\n",
        "    if arr[i] == key:\n",
        "      return i\n",
        "  return -1\n",
        "\n",
        "arr =input(\"Enter the elements :\")\n",
        "arr=list(map(int,arr.split(\",\")))\n",
        "key=int(input(\"Enter the key :\"))\n",
        "a = linear_search(arr,key)\n",
        "if a != -1:\n",
        "  print(\"Element found at\",a)\n",
        "else:\n",
        "  print(\"Element not found\")\n"
      ]
    },
    {
      "cell_type": "markdown",
      "source": [
        "binary search\n"
      ],
      "metadata": {
        "id": "5KzqNMLCElXe"
      }
    },
    {
      "cell_type": "code",
      "source": [
        "def binary_search(arr, key):\n",
        "\n",
        "    left = 0\n",
        "    right = len(arr) - 1\n",
        "\n",
        "    while left <= right:\n",
        "        mid = (left + right) // 2\n",
        "\n",
        "        if arr[mid] == key:\n",
        "            return mid\n",
        "        elif arr[mid] < key:\n",
        "            left = mid + 1\n",
        "        else:\n",
        "            right = mid - 1\n",
        "    return -1\n",
        "\n",
        "arr =input(\"Enter  the elements :\")\n",
        "arr =list(map(int,arr.split(\",\")))\n",
        "key = int(input(\"Enter the key: \"))\n",
        "index = binary_search(arr, key)\n",
        "if index != -1:\n",
        "    print(f\"{key} found at index {index}\")\n",
        "else:\n",
        "    print(f\"{key} not found\")"
      ],
      "metadata": {
        "colab": {
          "base_uri": "https://localhost:8080/"
        },
        "id": "HlgEtok1Ek-Y",
        "outputId": "55a843fc-93ae-4c4a-922c-7169383747c0"
      },
      "execution_count": null,
      "outputs": [
        {
          "output_type": "stream",
          "name": "stdout",
          "text": [
            "Enter  the elements :2,3,4,5,12,34\n",
            "Enter the key: 34\n",
            "34 found at index 5\n"
          ]
        }
      ]
    }
  ]
}