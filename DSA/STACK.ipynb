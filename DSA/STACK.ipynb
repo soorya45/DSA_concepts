{
  "nbformat": 4,
  "nbformat_minor": 0,
  "metadata": {
    "colab": {
      "provenance": []
    },
    "kernelspec": {
      "name": "python3",
      "display_name": "Python 3"
    },
    "language_info": {
      "name": "python"
    }
  },
  "cells": [
    {
      "cell_type": "code",
      "execution_count": null,
      "metadata": {
        "colab": {
          "base_uri": "https://localhost:8080/"
        },
        "id": "yU7z_sl4ZL0B",
        "outputId": "22a1b9c4-c6d8-4eb3-f27a-e717bf3a8df4"
      },
      "outputs": [
        {
          "name": "stdout",
          "output_type": "stream",
          "text": [
            "1. Push\n",
            "2. pop\n",
            "3. display\n",
            "4. peek\n",
            "5.Exit\n",
            "enter your choice:1\n",
            "Enter the data:10\n",
            "1. Push\n",
            "2. pop\n",
            "3. display\n",
            "4. peek\n",
            "5.Exit\n",
            "enter your choice:1\n",
            "Enter the data:20\n",
            "1. Push\n",
            "2. pop\n",
            "3. display\n",
            "4. peek\n",
            "5.Exit\n",
            "enter your choice:3\n",
            "[10, 20]\n",
            "1. Push\n",
            "2. pop\n",
            "3. display\n",
            "4. peek\n",
            "5.Exit\n",
            "enter your choice:2\n",
            "deleted item 20\n",
            "1. Push\n",
            "2. pop\n",
            "3. display\n",
            "4. peek\n",
            "5.Exit\n",
            "enter your choice:3\n",
            "[10]\n",
            "1. Push\n",
            "2. pop\n",
            "3. display\n",
            "4. peek\n",
            "5.Exit\n",
            "enter your choice:4\n",
            "1. Push\n",
            "2. pop\n",
            "3. display\n",
            "4. peek\n",
            "5.Exit\n",
            "enter your choice:5\n"
          ]
        }
      ],
      "source": [
        "class csc:\n",
        "  def __init__(self):\n",
        "    self.stack = list()#list=[12,34,5,]\n",
        "    self.maxsize = 5\n",
        "    self.top =  -1\n",
        "\n",
        "  def push(self,data):\n",
        "    if self.top == self.maxsize -1:\n",
        "      print(\"stack is Full\")\n",
        "    else:\n",
        "      self.top = self.top +1\n",
        "      self.stack.append(data)\n",
        "  def display(self):\n",
        "    print(self.stack)\n",
        "\n",
        "  def pop(self):\n",
        "    if self.top == -1:\n",
        "      print(\"stack is underflow!!!\")\n",
        "    else:\n",
        "        item = self.stack.pop()\n",
        "        self.top=self.top-1\n",
        "        print(\"deleted item\",item)\n",
        "  def peek(self):\n",
        "    if self.top==1:\n",
        "      print(\"stack is empty\")\n",
        "    else:\n",
        "      print(self.stack[self.top])\n",
        "\n",
        "Icsc = csc()\n",
        "while(1):\n",
        "  print(\"1. Push\")\n",
        "  print(\"2. pop\")\n",
        "  print(\"3. display\")\n",
        "  print(\"4. peek\")\n",
        "  print(\"5.Exit\")\n",
        "  choice = int(input(\"enter your choice:\"))\n",
        "  if choice == 1:\n",
        "    value =int(input(\"Enter the data:\"))\n",
        "    Icsc.push(value)\n",
        "  elif choice==2:\n",
        "    Icsc.pop()\n",
        "  elif choice==3:\n",
        "    Icsc.display()\n",
        "  elif choice==4:\n",
        "    Icsc.peek\n",
        "  else:\n",
        "    break\n"
      ]
    }
  ]
}